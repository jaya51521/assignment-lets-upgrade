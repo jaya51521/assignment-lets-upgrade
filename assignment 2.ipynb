{
 "cells": [
  {
   "cell_type": "markdown",
   "metadata": {},
   "source": [
    "# Class assignment(printing * as downward piramidal)"
   ]
  },
  {
   "cell_type": "code",
   "execution_count": 29,
   "metadata": {},
   "outputs": [
    {
     "name": "stdout",
     "output_type": "stream",
     "text": [
      "* * * * *  \n",
      "* * * *  \n",
      "* * *  \n",
      "* *  \n",
      "*  \n",
      " \n"
     ]
    }
   ],
   "source": [
    "rows = 5\n",
    "for i in range(rows + 1, 0, -1):\n",
    "    for j in range(0, i - 1):\n",
    "        print(\"*\", end=' ')\n",
    "    print(\" \")"
   ]
  },
  {
   "cell_type": "markdown",
   "metadata": {},
   "source": [
    "# Q1.    Write a Python program to remove duplicates from a list"
   ]
  },
  {
   "cell_type": "code",
   "execution_count": 8,
   "metadata": {},
   "outputs": [
    {
     "name": "stdout",
     "output_type": "stream",
     "text": [
      "[2, 4, 34, 9, 3, 5, 7, 6]\n"
     ]
    }
   ],
   "source": [
    "l1 = [2, 4,34,34,9, 3, 2, 5, 4, 7,4, 6]\n",
    " \n",
    "l2 = []\n",
    " \n",
    "for i in l1:\n",
    "    \n",
    "    if i not in l2:\n",
    "        l2.append(i)\n",
    " \n",
    "print(l2)"
   ]
  },
  {
   "cell_type": "markdown",
   "metadata": {},
   "source": [
    "# Q2 Write a Python program to get the difference between the two lists"
   ]
  },
  {
   "cell_type": "code",
   "execution_count": 17,
   "metadata": {},
   "outputs": [
    {
     "name": "stdout",
     "output_type": "stream",
     "text": [
      "{18, 19, 13, 14, 15}\n"
     ]
    }
   ],
   "source": [
    "l1 = [10, 11, 12, 13, 14, 16, 15]\n",
    "\n",
    "l2 = [10, 11, 12, 18, 19, 16]\n",
    "\n",
    "diff1 = set(l1).difference(set(l2))\n",
    "diff2 = set(l2).difference(l1)\n",
    "differences = diff1.union(diff2)\n",
    "print(differences)"
   ]
  },
  {
   "cell_type": "markdown",
   "metadata": {},
   "source": [
    "# Q3Write a Python program to get the frequency of the elements in a list"
   ]
  },
  {
   "cell_type": "code",
   "execution_count": 23,
   "metadata": {},
   "outputs": [
    {
     "name": "stdout",
     "output_type": "stream",
     "text": [
      "Enter list: 2,3,3,4,5,6,2,5,6,7,98,9\n",
      "Enter element: 2\n",
      "2 has frequency as 2 in given list\n"
     ]
    }
   ],
   "source": [
    "lst = eval(input(\"Enter list: \"))\n",
    "length = len(Ist)\n",
    "element = int(input(\"Enter element: \"))\n",
    "count = 0\n",
    "\n",
    "for i in range(0, length):\n",
    "    if element==lst[i]:\n",
    "        count+= 1 \n",
    "if count == 0:\n",
    "    print(element, \"not found in the given list.\")\n",
    "\n",
    "else:\n",
    "    print(element, \"has frequency as\", count, \"in given list\")\n"
   ]
  },
  {
   "cell_type": "markdown",
   "metadata": {},
   "source": [
    "# Q4Write a Python program to compute the similarity between two lists."
   ]
  },
  {
   "cell_type": "code",
   "execution_count": 30,
   "metadata": {},
   "outputs": [
    {
     "name": "stdout",
     "output_type": "stream",
     "text": [
      "Color1-Color2:  ['red', 'orange', 'white']\n",
      "Color2-Color1:  ['black', 'yellow']\n"
     ]
    }
   ],
   "source": [
    "from collections import Counter\n",
    "color1=[\"red\", \"orange\", \"green\", \"blue\", \"white\"]\n",
    "color2=[\"black\", \"yellow\", \"green\", \"blue\"]\n",
    "counter1 = Counter(color1)\n",
    "counter2 = Counter(color2)\n",
    "print(\"Color1-Color2: \",list(counter1 - counter2))\n",
    "print(\"Color2-Color1: \",list(counter2 - counter1))"
   ]
  },
  {
   "cell_type": "markdown",
   "metadata": {},
   "source": [
    "# Q5Write a Python function that takes a list of words and returns the length of the longest one"
   ]
  },
  {
   "cell_type": "code",
   "execution_count": 32,
   "metadata": {},
   "outputs": [
    {
     "name": "stdout",
     "output_type": "stream",
     "text": [
      "enter line of stringhello lets upgrade\n",
      "longest srting length= 7\n"
     ]
    }
   ],
   "source": [
    "ap=input(\"enter line of string\")\n",
    "n=ap.split()\n",
    "longest=len(n[0])\n",
    "for i in n:\n",
    "    if len(i)>longest:\n",
    "        longest=len(i)\n",
    "print(\"longest srting length=\",longest)        \n",
    "       \n",
    "    \n",
    "        "
   ]
  },
  {
   "cell_type": "markdown",
   "metadata": {},
   "source": [
    "# Q6Write a Python program to count the occurrences of each word in a given sentence"
   ]
  },
  {
   "cell_type": "code",
   "execution_count": 37,
   "metadata": {},
   "outputs": [
    {
     "name": "stdout",
     "output_type": "stream",
     "text": [
      "Enter string:good morning\n",
      "Enter word:good\n",
      "Count occurrence of the each word is:\n",
      "1\n"
     ]
    }
   ],
   "source": [
    "string=input(\"Enter string:\")\n",
    "word=input(\"Enter word:\")\n",
    "a=[]\n",
    "count=0\n",
    "a=string.split(\" \")\n",
    "for i in range(0,len(a)):\n",
    "      if(word==a[i]):\n",
    "            count=count+1\n",
    "print(\"Count occurrence of the each word is:\")\n",
    "print(count)"
   ]
  },
  {
   "cell_type": "markdown",
   "metadata": {},
   "source": [
    "# Q7Write a Python program to count and display the vowels of a given text"
   ]
  },
  {
   "cell_type": "code",
   "execution_count": 39,
   "metadata": {},
   "outputs": [
    {
     "name": "stdout",
     "output_type": "stream",
     "text": [
      "Enter string:Good evening lets upgrade\n",
      "Number of vowels are:\n",
      "9\n"
     ]
    }
   ],
   "source": [
    "string=input(\"Enter string:\")\n",
    "vowels=0\n",
    "for i in string:\n",
    "      if(i=='a' or i=='e' or i=='i' or i=='o' or i=='u' or i=='A' or i=='E' or i=='I' or i=='O' or i=='U'):\n",
    "            vowels=vowels+1\n",
    "print(\"Number of vowels are:\")\n",
    "print(vowels)"
   ]
  },
  {
   "cell_type": "markdown",
   "metadata": {},
   "source": [
    "# Q8Write a Python script to generate and print a dictionary that contains a number (between 1 and n)in the form (x, x*x)"
   ]
  },
  {
   "cell_type": "code",
   "execution_count": 46,
   "metadata": {},
   "outputs": [
    {
     "name": "stdout",
     "output_type": "stream",
     "text": [
      "Enter a number:10\n",
      "{1: 1, 2: 4, 3: 9, 4: 16, 5: 25, 6: 36, 7: 49, 8: 64, 9: 81, 10: 100}\n"
     ]
    }
   ],
   "source": [
    "n=int(input(\"Enter a number:\"))\n",
    "d={x:x*x for x in range(1,n+1)}\n",
    "print(d)"
   ]
  },
  {
   "cell_type": "markdown",
   "metadata": {},
   "source": [
    "# Q9Write a Python program to combine two dictionary adding values for common keys"
   ]
  },
  {
   "cell_type": "markdown",
   "metadata": {},
   "source": [
    "d1 = {'a': 100, 'b': 200, 'c':300}\n",
    "\n",
    "d2 = {'a': 300, 'b': 200, 'd':400}\n",
    "\n",
    "d3 = dict(d1) \n",
    "\n",
    "d3.update(d2) \n",
    "\n",
    "for i, j in d1.items():\n",
    "\n",
    "    for x, y in d2.items():\n",
    "\n",
    "        if i == x:\n",
    "\n",
    "            d3[i]=(j+y)\n",
    "\n",
    "print(d3)"
   ]
  },
  {
   "cell_type": "markdown",
   "metadata": {},
   "source": [
    "# Q10Write a Python program to print all unique values in a dictionary"
   ]
  },
  {
   "cell_type": "code",
   "execution_count": 15,
   "metadata": {},
   "outputs": [
    {
     "name": "stdout",
     "output_type": "stream",
     "text": [
      "original list: ({'V': 'S001'}, {'V': 'S002'}, {'VI': 'S001'}, {'VI': 'S005'}, {'VII': 'S005'}, {'V': 'S009'}, {'VIII': 'S007'})\n",
      "unique values: {'S007', 'S005', 'S009', 'S002', 'S001'}\n"
     ]
    }
   ],
   "source": [
    "dict = {\"V\":\"S001\"}, {\"V\": \"S002\"}, {\"VI\": \"S001\"}, {\"VI\": \"S005\"}, {\"VII\":\"S005\"},{\"V\":\"S009\"},{\"VIII\":\"S007\"}\n",
    "print(\"original list:\",dict)\n",
    "u_value = set(val for dic in dict for val in dic.values())\n",
    "print(\"unique values:\",u_value)\n"
   ]
  },
  {
   "cell_type": "code",
   "execution_count": null,
   "metadata": {},
   "outputs": [],
   "source": []
  }
 ],
 "metadata": {
  "kernelspec": {
   "display_name": "Python 3",
   "language": "python",
   "name": "python3"
  }
 },
 "nbformat": 4,
 "nbformat_minor": 4
}
