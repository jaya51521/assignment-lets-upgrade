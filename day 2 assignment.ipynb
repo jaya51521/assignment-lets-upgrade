{
 "cells": [
  {
   "cell_type": "markdown",
   "metadata": {},
   "source": [
    "# (2x+5/x^2+5x+6)\n"
   ]
  },
  {
   "cell_type": "code",
   "execution_count": 4,
   "metadata": {},
   "outputs": [
    {
     "name": "stdout",
     "output_type": "stream",
     "text": [
      "0.26785714285714285\n"
     ]
    }
   ],
   "source": [
    "x=5\n",
    "a=2*x+5\n",
    "b=x*x+5*x+6\n",
    "c=a/b\n",
    "print(c)"
   ]
  },
  {
   "cell_type": "markdown",
   "metadata": {},
   "source": [
    "# (x^2+5x+6/2x+5)"
   ]
  },
  {
   "cell_type": "code",
   "execution_count": 5,
   "metadata": {},
   "outputs": [
    {
     "name": "stdout",
     "output_type": "stream",
     "text": [
      "3.7333333333333334\n"
     ]
    }
   ],
   "source": [
    "x=5\n",
    "a=2*x+5\n",
    "b=x*x+5*x+6\n",
    "c=b/a\n",
    "print(c)"
   ]
  },
  {
   "cell_type": "markdown",
   "metadata": {},
   "source": [
    "# (2x-3)(x+9)"
   ]
  },
  {
   "cell_type": "code",
   "execution_count": 8,
   "metadata": {},
   "outputs": [
    {
     "name": "stdout",
     "output_type": "stream",
     "text": [
      "98\n"
     ]
    }
   ],
   "source": [
    "x=5\n",
    "a=(2*x-3)\n",
    "b=(x+9)\n",
    "c=a*b\n",
    "print(c)\n"
   ]
  },
  {
   "cell_type": "markdown",
   "metadata": {},
   "source": [
    "# Create a username and password login file using nested while loop"
   ]
  },
  {
   "cell_type": "code",
   "execution_count": null,
   "metadata": {},
   "outputs": [],
   "source": [
    "username_value = \"INDIA\"\n",
    "password_value = \"IND\"\n",
    "\n",
    "input_username = \"\"\n",
    "\n",
    "input_password = \"\"\n",
    "password_attempt = 1\n",
    "is_password_lock =False\n",
    "\n",
    "while input_password != password_value and not(is_password_lock): \n",
    "    input_username != username_value\n",
    "    if password_attempt <= 5:\n",
    "        input_username = input(\"enter username:\")\n",
    "        input_password = input(\"enter password: \")\n",
    "    else :\n",
    "        is_password_lock =True\n",
    "    password_attempt = password_attempt +1\n",
    "if is_password_lock:\n",
    "    print(\"your login failed due to many attempts try after 24 hours\")\n",
    "else :    \n",
    "    print(\"Congratulations your login is sucessfull!\")"
   ]
  },
  {
   "cell_type": "code",
   "execution_count": null,
   "metadata": {},
   "outputs": [],
   "source": []
  }
 ],
 "metadata": {
  "kernelspec": {
   "display_name": "Python 3",
   "language": "python",
   "name": "python3"
  },
  "language_info": {
   "codemirror_mode": {
    "name": "ipython",
    "version": 3
   },
   "file_extension": ".py",
   "mimetype": "text/x-python",
   "name": "python",
   "nbconvert_exporter": "python",
   "pygments_lexer": "ipython3",
   "version": "3.8.5"
  }
 },
 "nbformat": 4,
 "nbformat_minor": 4
}
