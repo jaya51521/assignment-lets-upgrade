{
 "cells": [
  {
   "cell_type": "markdown",
   "metadata": {},
   "source": [
    "# Creating chryptography app"
   ]
  },
  {
   "cell_type": "code",
   "execution_count": 2,
   "metadata": {},
   "outputs": [
    {
     "name": "stdout",
     "output_type": "stream",
     "text": [
      "Requirement already satisfied: onetimepad in c:\\programdata\\anaconda3\\lib\\site-packages (1.4)\n",
      "Note: you may need to restart the kernel to use updated packages.\n"
     ]
    }
   ],
   "source": [
    "pip install onetimepad"
   ]
  },
  {
   "cell_type": "code",
   "execution_count": 1,
   "metadata": {},
   "outputs": [],
   "source": [
    "import onetimepad "
   ]
  },
  {
   "cell_type": "code",
   "execution_count": 2,
   "metadata": {
    "scrolled": true
   },
   "outputs": [
    {
     "name": "stdout",
     "output_type": "stream",
     "text": [
      "Working 0000000000\n",
      "Working aryan\n"
     ]
    }
   ],
   "source": [
    "from tkinter import *\n",
    "#import tkinter\n",
    "\n",
    "root = Tk()\n",
    "root.title(\"Chryptography App\")\n",
    "\n",
    "def encryptMessage():\n",
    "    a = var.get()\n",
    "    #aryan\n",
    "    ct = onetimepad.encrypt(a,\"aryan\")\n",
    "    print(\"Working\",ct) \n",
    "    \n",
    "    e2.delete(0,END)\n",
    "    e2.insert(END,ct)\n",
    "\n",
    "def dycrptMessage():\n",
    "    a = var2.get()\n",
    "    #aryan\n",
    "    ct = onetimepad.decrypt(a,\"aryan\")\n",
    "    print(\"Working\",ct) \n",
    "    \n",
    "    e4.delete(0,END)\n",
    "    e4.insert(END,ct)\n",
    "    \n",
    "    \n",
    "    \n",
    "l1 = Label(root,text=\"Plain Text\")\n",
    "l1.grid(row=0,column=0)\n",
    "\n",
    "\n",
    "l3 = Label(root,text=\"Encypted Text\")\n",
    "l3.grid(row=0,column=2)\n",
    "\n",
    "var= StringVar()\n",
    "e1 = Entry(root,textvariable=var)\n",
    "e1.grid(row=0,column=1)\n",
    "\n",
    "var2= StringVar()\n",
    "e3 = Entry(root,textvariable=var2)\n",
    "e3.grid(row=0,column=3)\n",
    "\n",
    "\n",
    "\n",
    "l2 = Label(root,text=\"Encypted Text\")\n",
    "l2.grid(row=1,column=0)\n",
    "\n",
    "l4 = Label(root,text=\"Plain Text\")\n",
    "l4.grid(row=1,column=2)\n",
    "\n",
    "\n",
    "e2 = Entry(root)\n",
    "e2.grid(row=1,column=1)\n",
    "\n",
    "e4 = Entry(root)\n",
    "e4.grid(row=1,column=3)\n",
    "\n",
    "b1 = Button(root,text=\"Encyption\",bg=\"black\",fg=\"white\",command=encryptMessage)\n",
    "b1.grid(row=2,column=1)\n",
    "\n",
    "b2 = Button(root,text=\"Dycrption\",bg=\"black\",fg=\"white\",command=dycrptMessage)\n",
    "b2.grid(row=2,column=3)\n",
    "\n",
    "\n",
    "\n",
    "\n",
    "root.mainloop()"
   ]
  },
  {
   "cell_type": "markdown",
   "metadata": {},
   "source": [
    "# Do the project - Sending mail using Python"
   ]
  },
  {
   "cell_type": "code",
   "execution_count": 2,
   "metadata": {},
   "outputs": [],
   "source": [
    "import smtplib"
   ]
  },
  {
   "cell_type": "code",
   "execution_count": 3,
   "metadata": {},
   "outputs": [
    {
     "name": "stdout",
     "output_type": "stream",
     "text": [
      "Enter your message herehello\n"
     ]
    },
    {
     "data": {
      "text/plain": [
       "(221, b'2.0.0 closing connection 37sm16414160pjz.41 - gsmtp')"
      ]
     },
     "execution_count": 3,
     "metadata": {},
     "output_type": "execute_result"
    }
   ],
   "source": [
    "#smtp session\n",
    "s = smtplib.SMTP(\"smtp.gmail.com\",587)\n",
    "\n",
    "\n",
    "#security\n",
    "s.starttls()\n",
    "\n",
    "s.login(\"motocplus01234@gmail.com\",\"tvudwifzmbeywuwe\") #Your mail ID\n",
    "msg = input(\"Enter your message here\")\n",
    "s.sendmail(\"motocplus01234@gmail.com\",\"jaya515241@gmail.com\",msg)\n",
    "\n",
    "s.quit()\n"
   ]
  },
  {
   "cell_type": "markdown",
   "metadata": {},
   "source": [
    "# guessing movie name"
   ]
  },
  {
   "cell_type": "code",
   "execution_count": 1,
   "metadata": {
    "scrolled": true
   },
   "outputs": [
    {
     "name": "stdout",
     "output_type": "stream",
     "text": [
      "Collecting firebase_admin\n",
      "  Using cached firebase_admin-4.5.0-py3-none-any.whl (111 kB)\n",
      "Collecting cachecontrol>=0.12.6\n",
      "  Using cached CacheControl-0.12.6-py2.py3-none-any.whl (19 kB)\n",
      "Collecting google-api-core[grpc]<2.0.0dev,>=1.14.0; platform_python_implementation != \"PyPy\"\n",
      "  Using cached google_api_core-1.24.1-py2.py3-none-any.whl (92 kB)\n",
      "Collecting google-api-python-client>=1.7.8\n",
      "  Using cached google_api_python_client-1.12.8-py2.py3-none-any.whl (61 kB)\n",
      "Collecting google-cloud-storage>=1.18.0\n",
      "  Using cached google_cloud_storage-1.35.0-py2.py3-none-any.whl (96 kB)\n",
      "Collecting google-cloud-firestore>=1.4.0; platform_python_implementation != \"PyPy\"Note: you may need to restart the kernel to use updated packages.\n",
      "\n",
      "  Using cached google_cloud_firestore-2.0.2-py2.py3-none-any.whl (196 kB)\n",
      "Requirement already satisfied: requests in c:\\programdata\\anaconda3\\lib\\site-packages (from cachecontrol>=0.12.6->firebase_admin) (2.24.0)\n",
      "Requirement already satisfied: msgpack>=0.5.2 in c:\\programdata\\anaconda3\\lib\\site-packages (from cachecontrol>=0.12.6->firebase_admin) (1.0.0)\n",
      "Requirement already satisfied: six>=1.13.0 in c:\\programdata\\anaconda3\\lib\\site-packages (from google-api-core[grpc]<2.0.0dev,>=1.14.0; platform_python_implementation != \"PyPy\"->firebase_admin) (1.15.0)\n",
      "Requirement already satisfied: setuptools>=34.0.0 in c:\\programdata\\anaconda3\\lib\\site-packages (from google-api-core[grpc]<2.0.0dev,>=1.14.0; platform_python_implementation != \"PyPy\"->firebase_admin) (50.3.1.post20201107)\n",
      "Collecting protobuf>=3.12.0\n",
      "  Using cached protobuf-3.14.0-py2.py3-none-any.whl (173 kB)\n",
      "Requirement already satisfied: pytz in c:\\programdata\\anaconda3\\lib\\site-packages (from google-api-core[grpc]<2.0.0dev,>=1.14.0; platform_python_implementation != \"PyPy\"->firebase_admin) (2020.1)\n",
      "Collecting google-auth<2.0dev,>=1.21.1\n",
      "  Using cached google_auth-1.24.0-py2.py3-none-any.whl (114 kB)\n",
      "Collecting googleapis-common-protos<2.0dev,>=1.6.0\n",
      "  Using cached googleapis_common_protos-1.52.0-py2.py3-none-any.whl (100 kB)\n",
      "Collecting grpcio<2.0dev,>=1.29.0; extra == \"grpc\"\n",
      "  Using cached grpcio-1.34.0-cp38-cp38-win_amd64.whl (2.9 MB)\n",
      "Collecting uritemplate<4dev,>=3.0.0\n",
      "  Using cached uritemplate-3.0.1-py2.py3-none-any.whl (15 kB)\n",
      "Collecting google-auth-httplib2>=0.0.3\n",
      "  Using cached google_auth_httplib2-0.0.4-py2.py3-none-any.whl (9.1 kB)\n",
      "Collecting httplib2<1dev,>=0.15.0\n",
      "  Using cached httplib2-0.18.1-py3-none-any.whl (95 kB)\n",
      "Collecting google-resumable-media<2.0dev,>=1.2.0\n",
      "  Using cached google_resumable_media-1.2.0-py2.py3-none-any.whl (75 kB)\n",
      "Collecting google-cloud-core<2.0dev,>=1.4.1\n",
      "  Using cached google_cloud_core-1.5.0-py2.py3-none-any.whl (27 kB)\n",
      "Collecting proto-plus>=1.3.0\n",
      "  Using cached proto-plus-1.13.0.tar.gz (44 kB)\n",
      "Requirement already satisfied: urllib3!=1.25.0,!=1.25.1,<1.26,>=1.21.1 in c:\\programdata\\anaconda3\\lib\\site-packages (from requests->cachecontrol>=0.12.6->firebase_admin) (1.25.11)\n",
      "Requirement already satisfied: certifi>=2017.4.17 in c:\\programdata\\anaconda3\\lib\\site-packages (from requests->cachecontrol>=0.12.6->firebase_admin) (2020.6.20)\n",
      "Requirement already satisfied: chardet<4,>=3.0.2 in c:\\programdata\\anaconda3\\lib\\site-packages (from requests->cachecontrol>=0.12.6->firebase_admin) (3.0.4)\n",
      "Requirement already satisfied: idna<3,>=2.5 in c:\\programdata\\anaconda3\\lib\\site-packages (from requests->cachecontrol>=0.12.6->firebase_admin) (2.10)\n",
      "Collecting pyasn1-modules>=0.2.1\n",
      "  Using cached pyasn1_modules-0.2.8-py2.py3-none-any.whl (155 kB)\n",
      "Collecting rsa<5,>=3.1.4; python_version >= \"3.6\"\n",
      "  Using cached rsa-4.7-py3-none-any.whl (34 kB)\n",
      "Collecting cachetools<5.0,>=2.0.0\n",
      "  Using cached cachetools-4.2.0-py3-none-any.whl (12 kB)\n",
      "Collecting google-crc32c<2.0dev,>=1.0; python_version >= \"3.5\"\n",
      "  Using cached google-crc32c-1.1.0.tar.gz (14 kB)\n",
      "  Installing build dependencies: started\n",
      "  Installing build dependencies: finished with status 'done'\n",
      "  Getting requirements to build wheel: started\n",
      "  Getting requirements to build wheel: finished with status 'done'\n",
      "  Installing backend dependencies: started\n",
      "  Installing backend dependencies: finished with status 'done'\n",
      "    Preparing wheel metadata: started\n",
      "    Preparing wheel metadata: finished with status 'done'\n",
      "Collecting pyasn1<0.5.0,>=0.4.6\n",
      "  Downloading pyasn1-0.4.8-py2.py3-none-any.whl (77 kB)\n",
      "Requirement already satisfied: cffi>=1.0.0 in c:\\programdata\\anaconda3\\lib\\site-packages (from google-crc32c<2.0dev,>=1.0; python_version >= \"3.5\"->google-resumable-media<2.0dev,>=1.2.0->google-cloud-storage>=1.18.0->firebase_admin) (1.14.3)\n",
      "Requirement already satisfied: pycparser in c:\\programdata\\anaconda3\\lib\\site-packages (from cffi>=1.0.0->google-crc32c<2.0dev,>=1.0; python_version >= \"3.5\"->google-resumable-media<2.0dev,>=1.2.0->google-cloud-storage>=1.18.0->firebase_admin) (2.20)\n",
      "Building wheels for collected packages: proto-plus, google-crc32c\n",
      "  Building wheel for proto-plus (setup.py): started\n",
      "  Building wheel for proto-plus (setup.py): finished with status 'done'\n",
      "  Created wheel for proto-plus: filename=proto_plus-1.13.0-py3-none-any.whl size=41595 sha256=57bca9f1634603627fe697395f98fb273c924c645acc72248f67c4d84babddb8\n",
      "  Stored in directory: c:\\users\\asus\\appdata\\local\\pip\\cache\\wheels\\c4\\f7\\51\\d264693ef5a67296bb5601bca5834f5d5b12e325eb4b2d3f7f\n",
      "  Building wheel for google-crc32c (PEP 517): started\n",
      "  Building wheel for google-crc32c (PEP 517): finished with status 'done'\n",
      "  Created wheel for google-crc32c: filename=google_crc32c-1.1.0-py3-none-any.whl size=14065 sha256=d9f7cf848e6ac64d3cc92eacedbf468f7b062ce3d3bb760930043b220d1158f4\n",
      "  Stored in directory: c:\\users\\asus\\appdata\\local\\pip\\cache\\wheels\\ff\\b6\\b6\\fed658e7c3ce2ed7f140cf7739276593386464b11ee72f0752\n",
      "Successfully built proto-plus google-crc32c\n",
      "Installing collected packages: cachecontrol, protobuf, pyasn1, pyasn1-modules, rsa, cachetools, google-auth, googleapis-common-protos, grpcio, google-api-core, uritemplate, httplib2, google-auth-httplib2, google-api-python-client, google-crc32c, google-resumable-media, google-cloud-core, google-cloud-storage, proto-plus, google-cloud-firestore, firebase-admin\n",
      "Successfully installed cachecontrol-0.12.6 cachetools-4.2.0 firebase-admin-4.5.0 google-api-core-1.24.1 google-api-python-client-1.12.8 google-auth-1.24.0 google-auth-httplib2-0.0.4 google-cloud-core-1.5.0 google-cloud-firestore-2.0.2 google-cloud-storage-1.35.0 google-crc32c-1.1.0 google-resumable-media-1.2.0 googleapis-common-protos-1.52.0 grpcio-1.34.0 httplib2-0.18.1 proto-plus-1.13.0 protobuf-3.14.0 pyasn1-0.4.8 pyasn1-modules-0.2.8 rsa-4.7 uritemplate-3.0.1\n"
     ]
    }
   ],
   "source": [
    "pip install firebase_admin"
   ]
  },
  {
   "cell_type": "code",
   "execution_count": 8,
   "metadata": {},
   "outputs": [
    {
     "name": "stdout",
     "output_type": "stream",
     "text": [
      "Working\n"
     ]
    }
   ],
   "source": [
    "import firebase_admin\n",
    "from firebase_admin import credentials\n",
    "\n",
    "cred = credentials.Certificate(\"aryan.json\")\n",
    "firebase_admin.initialize_app(cred)\n",
    "\n",
    "\n",
    "print(\"Working\")\n"
   ]
  },
  {
   "cell_type": "code",
   "execution_count": 1,
   "metadata": {},
   "outputs": [],
   "source": [
    "from firebase_admin import firestore"
   ]
  },
  {
   "cell_type": "code",
   "execution_count": 3,
   "metadata": {},
   "outputs": [
    {
     "name": "stdout",
     "output_type": "stream",
     "text": [
      "done\n"
     ]
    }
   ],
   "source": [
    "db = firestore.client()\n",
    "doc_ref = db.collection(\"movies\").document(\"Bollywood\")\n",
    "\n",
    "data = {\"Name\":[\"war\",\"kgf\",\"3-idiot\",\"family-man\",\"dangal\"],\n",
    "       \"collection\":[400,500,200,100,600]}\n",
    "doc_ref.set(data)\n",
    "print(\"done\")"
   ]
  },
  {
   "cell_type": "code",
   "execution_count": null,
   "metadata": {},
   "outputs": [],
   "source": [
    "db = firestore.client()\n",
    "\n",
    "docs = db.collection(\"movies\").stream()\n",
    "for d in docs:\n",
    "    #print(d.to_dict())\n",
    "    database = d.to_dict()"
   ]
  },
  {
   "cell_type": "code",
   "execution_count": null,
   "metadata": {},
   "outputs": [],
   "source": [
    "d = database[\"Name\"]"
   ]
  },
  {
   "cell_type": "code",
   "execution_count": null,
   "metadata": {},
   "outputs": [],
   "source": [
    "import random\n",
    "movie = database[\"Name\"]\n",
    "player = input(\"Write your Name: \")\n",
    "print(\"Guess the character: \")\n",
    "print(\"You have 10 chance to get the movie name: \")\n",
    "print(\"Best of luck!\",player)\n",
    "\n",
    "\n",
    "count = 10\n",
    "\n",
    "geuss= \"\"\n",
    "\n",
    "word = random.choice(movie) #war\n",
    "\n",
    "while count>0:\n",
    "    fail = 0\n",
    "    for char in word:\n",
    "        if char in geuss:\n",
    "            print(char)\n",
    "        else:\n",
    "            print(\"_\")\n",
    "            fail+=1\n",
    "            \n",
    "            \n",
    "    if fail==0:\n",
    "        print(\"Congratulation you won!!!\")\n",
    "        print(\"Movie Name was:\",word)\n",
    "        break\n",
    "        \n",
    "    g = input(\"Enter your character: \")\n",
    "    geuss = geuss+g\n",
    "    \n",
    "    if g not in word:\n",
    "        count = count-1\n",
    "        print(\"Wrong Answer:(\")\n",
    "\n",
    "        print(\"You have \",count,\"more geusses\")"
   ]
  },
  {
   "cell_type": "code",
   "execution_count": null,
   "metadata": {},
   "outputs": [],
   "source": []
  }
 ],
 "metadata": {
  "kernelspec": {
   "display_name": "Python 3",
   "language": "python",
   "name": "python3"
  },
  "language_info": {
   "codemirror_mode": {
    "name": "ipython",
    "version": 3
   },
   "file_extension": ".py",
   "mimetype": "text/x-python",
   "name": "python",
   "nbconvert_exporter": "python",
   "pygments_lexer": "ipython3",
   "version": "3.8.5"
  }
 },
 "nbformat": 4,
 "nbformat_minor": 4
}
